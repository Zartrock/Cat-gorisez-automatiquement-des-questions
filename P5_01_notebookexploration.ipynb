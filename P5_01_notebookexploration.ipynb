SELECT TOP(50000) Id, CreationDate, Score, ViewCount, AnswerCount, CommentCount, FavoriteCount, Title, Body, Tags

FROM Posts

WHERE CreationDate BETWEEN CONVERT(datetime, '2020-01-01') AND CONVERT(datetime, '2022-02-01')

AND Score IS NOT NULL

AND ViewCount IS NOT NULL

AND AnswerCount IS NOT NULL

AND CommentCount IS NOT NULL

AND FavoriteCount IS NOT NULL

ORDER BY CreationDate DESC

#Make all the necessary imports for modules used in the notebook
# coding: utf-8
​
import re
import time
import pickle
import nltk, warnings
from nltk.corpus import stopwords
from nltk.stem import PorterStemmer
from nltk.stem import WordNetLemmatizer
from nltk.corpus import wordnet
from nltk.tokenize import sent_tokenize, word_tokenize
from nltk.tag.perceptron import PerceptronTagger
from sklearn.feature_extraction.text import CountVectorizer, TfidfVectorizer
from sklearn.decomposition import LatentDirichletAllocation
from sklearn.multioutput import ClassifierChain
from sklearn.naive_bayes import MultinomialNB, ComplementNB
from sklearn.model_selection import train_test_split
from sklearn.metrics import accuracy_score, hamming_loss, make_scorer
from sklearn.metrics import jaccard_score
import pandas as pd
from bs4 import BeautifulSoup
import itertools
import os
import numpy as np
import calendar
import math
import matplotlib as mpl
from PIL import Image
from wordcloud import WordCloud, STOPWORDS, ImageColorGenerator
import matplotlib.pyplot as plt
from collections import Counter
import plotly.graph_objs as go
import matplotlib.cm as cm
from io import BytesIO
​
# We load the data set
#df = pd.read_csv(BytesIO(csv_as_bytes))
df = pd.read_csv(r"C:\Users\sesa638933\Desktop\OC\P5\QueryResults.csv")
print(df.shape)
df.head()
df=df.drop_duplicates()
df.head(3)
(50000, 10)
Id	CreationDate	Score	ViewCount	AnswerCount	CommentCount	FavoriteCount	Title	Body	Tags
0	70934217	2022-01-31 23:55:24	0	43	1	0	1	Spring webflux not running reactive call	<p>I have the following methods.</p>\n<pre><co...	<java><mono><reactive-programming><spring-webf...
1	70934186	2022-01-31 23:50:23	2	42	1	0	1	How do I localize CMFCWindowsManagerDialog in ...	<p>We have added the Portuguese language to ou...	<dll><localization><mfc>
2	70934162	2022-01-31 23:46:59	0	93	1	2	1	Not getting the decrypted OpenVPN Username fro...	<p>I have a Powershell script that I am succes...	<powershell><encryption><windows-10><registry>...
df.isna().sum()
​
Id               0
CreationDate     0
Score            0
ViewCount        0
AnswerCount      0
CommentCount     0
FavoriteCount    0
Title            0
Body             0
Tags             0
dtype: int64
df["CreationDate"] = pd.to_datetime(df["CreationDate"])
%pylab 
%matplotlib inline
import seaborn as sns
​
fig, ax = plt.subplots(nrows=1, ncols=1, figsize=(50,10))
CreationDateByDay = df['CreationDate'].dt.date.value_counts()
​
sns.lineplot(data=CreationDateByDay, x=CreationDateByDay.index, y=CreationDateByDay.values, ax=ax)
ax.set_xlabel("Date")
ax.set_ylabel("Nombre de posts")
ax.set_title("Nombre de commentaires par date")
​
plt.show()
Using matplotlib backend: Qt5Agg
Populating the interactive namespace from numpy and matplotlib

%pylab 
%matplotlib inline
import seaborn as sns
​
​
def plot_continuous_distribution(data, col, bins='sturges'):
    """
    Plot distribution plot, box plot and statistical distribution figures
    
    Args: 
        data(DataFrame): Name of the dataframe 
        
        col(String): Name of the column to plot
        
    Returns:
        Variable distribution plots and figures
    """
    
    fig, ax = plt.subplots(nrows=1, ncols=2, figsize=(50,10))
    
    sns.histplot(data=df, x=col, bins='sturges', kde=True, ax=ax[0])
    ax[0].set_xlabel(f"{col}")
    ax[0].set_ylabel("Nombre d'observations")
    ax[0].set_title(f"Histograme de la variable {col}")
    
    sns.boxplot(data=df, x=col)
    ax[1].set_xlabel(f"{col}")
    ax[1].set_ylabel("Nombre d'oservations")
    ax[1].set_title(f"Boîte à moustaches de la variable {col}")
    plt.show()
    
    print("\n" + "-" * 50 + "\n")
    print(f"Indicateurs statistiques de distribution de la variable {col}:")
    display(data[col].describe())
        
    
plot_continuous_distribution(data=df, col='Score')
Using matplotlib backend: Qt5Agg
Populating the interactive namespace from numpy and matplotlib


--------------------------------------------------

Indicateurs statistiques de distribution de la variable Score:
count    50000.000000
mean         1.183440
std          4.209649
min        -12.000000
25%          0.000000
50%          1.000000
75%          1.000000
max        376.000000
Name: Score, dtype: float64
plot_continuous_distribution(data=df, col='ViewCount')


--------------------------------------------------

Indicateurs statistiques de distribution de la variable ViewCount:
count     50000.000000
mean        329.645020
std        3026.319934
min           5.000000
25%          46.000000
50%          74.000000
75%         152.000000
max      307788.000000
Name: ViewCount, dtype: float64
plot_continuous_distribution(data=df, col='AnswerCount')
​


--------------------------------------------------

Indicateurs statistiques de distribution de la variable AnswerCount:
count    50000.000000
mean         1.122220
std          1.075075
min          0.000000
25%          0.000000
50%          1.000000
75%          2.000000
max         36.000000
Name: AnswerCount, dtype: float64
plot_continuous_distribution(data=df, col='CommentCount')
